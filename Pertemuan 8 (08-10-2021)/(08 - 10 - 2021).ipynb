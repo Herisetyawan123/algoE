{
 "cells": [
  {
   "cell_type": "markdown",
   "metadata": {},
   "source": [
    "# List "
   ]
  },
  {
   "cell_type": "code",
   "execution_count": 18,
   "metadata": {},
   "outputs": [
    {
     "name": "stdout",
     "output_type": "stream",
     "text": [
      "['heri', 'wuluhan', 20, 170.1, 'Mahasiswa']\n"
     ]
    }
   ],
   "source": [
    "biodata = [\"heri\", \"wuluhan\", 19, 170.1]\n",
    "# print(type(biodata))\n",
    "biodata[2] = 20\n",
    "biodata.append(\"Mahasiswa\")\n",
    "print(biodata)"
   ]
  },
  {
   "cell_type": "markdown",
   "metadata": {},
   "source": [
    "# tuple"
   ]
  },
  {
   "cell_type": "code",
   "execution_count": 34,
   "metadata": {},
   "outputs": [],
   "source": [
    "biodata2 = (\"heri\", \"wuluhan\", 19, 170.1)\n",
    "biodata2[2] = 20\n",
    "print(biodata2)"
   ]
  },
  {
   "cell_type": "markdown",
   "id": "96ec5aec-4f7a-4727-9e63-a844fcf05e23",
   "metadata": {},
   "source": [
    "pengenalan fungsi ***Range()***\n",
    "\n",
    "- range(10) -> 0,1,2,3,4,5,6,7,8,9\n",
    "- range(2, 10) -> 2,3,4,5,6,7,8,9\n",
    "- range(2, 10, 2) -> 2, 4, 6, 8\n",
    "\n",
    "range(0, end, 1)"
   ]
  },
  {
   "cell_type": "code",
   "execution_count": 33,
   "id": "461ec677-51b0-4b7b-89bc-54e8dc102111",
   "metadata": {},
   "outputs": [
    {
     "name": "stdout",
     "output_type": "stream",
     "text": [
      "[0, 1, 2, 3, 4]\n"
     ]
    }
   ],
   "source": [
    "print(list(range(0, 5, 1)))"
   ]
  },
  {
   "cell_type": "markdown",
   "metadata": {},
   "source": [
    "# For loop\n",
    "    for item in object:\n",
    "        statements to do stuff"
   ]
  },
  {
   "cell_type": "code",
   "execution_count": 42,
   "metadata": {},
   "outputs": [
    {
     "name": "stdout",
     "output_type": "stream",
     "text": [
      "1\n",
      "2\n",
      "3\n",
      "4\n",
      "5\n"
     ]
    }
   ],
   "source": [
    "# print(biodata[0])\n",
    "# print(biodata[1])\n",
    "# print(biodata[2])\n",
    "# print(biodata[3])\n",
    "# print(biodata[4])\n",
    "# print(biodata[5])\n",
    "no = 1\n",
    "for _ in biodata:\n",
    "    print(no)\n",
    "    no += 1"
   ]
  },
  {
   "cell_type": "markdown",
   "metadata": {},
   "source": [
    "# for else loop\n",
    "    for item in object:\n",
    "        statements to do stuff\n",
    "    else\n",
    "        final statements\n"
   ]
  },
  {
   "cell_type": "code",
   "execution_count": 66,
   "metadata": {},
   "outputs": [
    {
     "name": "stdout",
     "output_type": "stream",
     "text": [
      "1\n"
     ]
    }
   ],
   "source": [
    "nama = \"lintang\"\n",
    "\n",
    "for angka in range(1,11):\n",
    "    if angka <= 5:\n",
    "        print(angka)\n",
    "        break\n",
    "else:\n",
    "    print(\"looping selesai\")"
   ]
  },
  {
   "cell_type": "code",
   "execution_count": 85,
   "metadata": {},
   "outputs": [
    {
     "name": "stdout",
     "output_type": "stream",
     "text": [
      "5\n",
      "1\n"
     ]
    }
   ],
   "source": [
    "# import random as rn\n",
    "from random import *\n",
    "\n",
    "print(randrange(1,11,1)) # 1, 2, 3, 4, 5,  6, 7, 8, 9, 10\n",
    "print(randrange(1,11,2)) # 1, 3, 5, 7, 9"
   ]
  }
 ],
 "metadata": {
  "interpreter": {
   "hash": "8da01e5a71448ea74f54d88afa8911010d1d12e23bc7e103d40d5def4a09152c"
  },
  "kernelspec": {
   "display_name": "Python 3.9.5 64-bit",
   "name": "python3"
  },
  "language_info": {
   "codemirror_mode": {
    "name": "ipython",
    "version": 3
   },
   "file_extension": ".py",
   "mimetype": "text/x-python",
   "name": "python",
   "nbconvert_exporter": "python",
   "pygments_lexer": "ipython3",
   "version": "3.9.5"
  }
 },
 "nbformat": 4,
 "nbformat_minor": 5
}
