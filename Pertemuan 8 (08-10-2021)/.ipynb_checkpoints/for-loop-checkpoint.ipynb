{
 "cells": [
  {
   "cell_type": "markdown",
   "id": "96ec5aec-4f7a-4727-9e63-a844fcf05e23",
   "metadata": {},
   "source": [
    "pengenalan fungsi ***Range()***\n",
    "\n",
    "- range(10) -> 1,2,3,4,5,6,7,8,9\n",
    "- range(2, 10) -> 2,3,4,5,6,7,8,9\n",
    "- range(2, 10, 2) -> 2,3,4,5,6,7,8,9"
   ]
  },
  {
   "cell_type": "code",
   "execution_count": null,
   "id": "461ec677-51b0-4b7b-89bc-54e8dc102111",
   "metadata": {},
   "outputs": [],
   "source": [
    "print(range(2, 10, 2))"
   ]
  },
  {
   "cell_type": "code",
   "execution_count": null,
   "id": "293837c6-0eab-4d04-a3b8-d07e4dd3d766",
   "metadata": {},
   "outputs": [],
   "source": []
  }
 ],
 "metadata": {
  "kernelspec": {
   "display_name": "Python 3",
   "language": "python",
   "name": "python3"
  },
  "language_info": {
   "name": ""
  }
 },
 "nbformat": 4,
 "nbformat_minor": 5
}
