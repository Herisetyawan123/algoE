{
 "cells": [
  {
   "cell_type": "markdown",
   "metadata": {},
   "source": [
    "# Logical Operator\n",
    "\n",
    "- and\n",
    "- or\n",
    "- not"
   ]
  },
  {
   "cell_type": "code",
   "execution_count": 5,
   "metadata": {},
   "outputs": [
    {
     "name": "stdout",
     "output_type": "stream",
     "text": [
      "True\n",
      "False\n"
     ]
    }
   ],
   "source": [
    "print(False and False or True and True)\n",
    "print(False and (False or True) and True)"
   ]
  },
  {
   "cell_type": "markdown",
   "metadata": {},
   "source": [
    "# Membership Operator\n",
    "\n",
    "- in \n",
    "- not in"
   ]
  },
  {
   "cell_type": "code",
   "execution_count": 1,
   "metadata": {},
   "outputs": [
    {
     "name": "stdout",
     "output_type": "stream",
     "text": [
      "True\n",
      "False\n",
      "True\n",
      "False\n"
     ]
    }
   ],
   "source": [
    "lists = [1,2,3,4]\n",
    "print( 1 in lists)\n",
    "print( 5 in lists)\n",
    "\n",
    "\n",
    "# not in\n",
    "print( 5 not in lists)\n",
    "print( 1 not in lists)"
   ]
  },
  {
   "cell_type": "markdown",
   "metadata": {},
   "source": [
    "# Identity Operators\n",
    "\n",
    "- is\n",
    "- is not"
   ]
  },
  {
   "cell_type": "code",
   "execution_count": 24,
   "metadata": {},
   "outputs": [
    {
     "name": "stdout",
     "output_type": "stream",
     "text": [
      "2073839323008\n",
      "2073839321536\n",
      "False\n"
     ]
    }
   ],
   "source": [
    "list1 = [1,2,3]\n",
    "list2 = [1,2,3]\n",
    "print(id(list1))\n",
    "print(id(list2))\n",
    "print(list1 is list2)"
   ]
  },
  {
   "cell_type": "code",
   "execution_count": 27,
   "metadata": {},
   "outputs": [
    {
     "name": "stdout",
     "output_type": "stream",
     "text": [
      "2073839323008\n",
      "True\n"
     ]
    }
   ],
   "source": [
    "list3 = list1\n",
    "print(id(list3))\n",
    "print(list1 is list3)"
   ]
  },
  {
   "cell_type": "code",
   "execution_count": 28,
   "metadata": {},
   "outputs": [
    {
     "name": "stdout",
     "output_type": "stream",
     "text": [
      "2073839323008\n",
      "2073839321536\n",
      "2073839323008\n"
     ]
    }
   ],
   "source": [
    "print(id(list1))\n",
    "print(id(list2))\n",
    "print(id(list3))"
   ]
  },
  {
   "cell_type": "code",
   "execution_count": 34,
   "metadata": {},
   "outputs": [
    {
     "name": "stdout",
     "output_type": "stream",
     "text": [
      "[1, 2, 3]\n",
      "[1, 2, 3, 4]\n",
      "True\n"
     ]
    }
   ],
   "source": [
    "arr = [1,2,3]\n",
    "arr2 = arr.copy()\n",
    "arr2.append(4)\n",
    "print(arr)  # [1, 2, 3]\n",
    "print(arr2) # [1, 2, 3, 4]\n",
    "print(arr is not arr2)"
   ]
  },
  {
   "cell_type": "markdown",
   "metadata": {},
   "source": [
    "# Bitwise Operators\n",
    "- &\n",
    "- |\n",
    "- ^\n",
    "- ~\n",
    "- \\>>\n",
    "- <<"
   ]
  },
  {
   "cell_type": "code",
   "execution_count": 36,
   "metadata": {},
   "outputs": [
    {
     "name": "stdout",
     "output_type": "stream",
     "text": [
      "0b1010\n",
      "0b10100\n",
      "0\n"
     ]
    }
   ],
   "source": [
    "a = 10 # -> 01010   -> false and false\n",
    "b = 20 # -> 10100\n",
    "#           00000  -> decimal : 0\n",
    "print(bin(a))\n",
    "print(bin(b))\n",
    "print(a & b)"
   ]
  },
  {
   "cell_type": "code",
   "execution_count": 37,
   "metadata": {},
   "outputs": [
    {
     "name": "stdout",
     "output_type": "stream",
     "text": [
      "0b1010\n",
      "0b10100\n",
      "30\n"
     ]
    }
   ],
   "source": [
    "a = 10 # -> 01010 \n",
    "b = 20 # -> 10100\n",
    "#           11110  -> decimal : 30\n",
    "\n",
    "print(bin(a))\n",
    "print(bin(b))\n",
    "print(a | b)"
   ]
  },
  {
   "cell_type": "code",
   "execution_count": 44,
   "metadata": {},
   "outputs": [
    {
     "name": "stdout",
     "output_type": "stream",
     "text": [
      "6\n"
     ]
    }
   ],
   "source": [
    "a = 2  # 10\n",
    "b = 4  # 11\n",
    "#        11\n",
    "\n",
    "\n",
    "print(a | b)\n"
   ]
  },
  {
   "cell_type": "code",
   "execution_count": 51,
   "metadata": {},
   "outputs": [
    {
     "name": "stdout",
     "output_type": "stream",
     "text": [
      "30\n"
     ]
    }
   ],
   "source": [
    "a = 10 # -> 01010 \n",
    "b = 20 # -> 10100\n",
    "#           11110 -> decimal : 30\n",
    "\n",
    "'''\n",
    "t - t = f\n",
    "t - f = t\n",
    "f - t = t\n",
    "f - f = f\n",
    "'''\n",
    "\n",
    "# print(bin(a))\n",
    "# print(bin(b))\n",
    "print(a ^ b)"
   ]
  },
  {
   "cell_type": "code",
   "execution_count": 60,
   "metadata": {},
   "outputs": [
    {
     "name": "stdout",
     "output_type": "stream",
     "text": [
      "-11\n"
     ]
    }
   ],
   "source": [
    "# 10 = 01010 \n",
    "# ~10 = -(-01010 + 1)\n",
    "print(~10)\n"
   ]
  },
  {
   "cell_type": "code",
   "execution_count": 72,
   "metadata": {},
   "outputs": [
    {
     "name": "stdout",
     "output_type": "stream",
     "text": [
      "0\n",
      "0b0\n"
     ]
    }
   ],
   "source": [
    "x = 10 # 01010\n",
    "print(10 >> 4) # 00000000\n",
    "print(bin(0))"
   ]
  },
  {
   "cell_type": "code",
   "execution_count": 70,
   "metadata": {},
   "outputs": [
    {
     "name": "stdout",
     "output_type": "stream",
     "text": [
      "160\n",
      "0b10100000\n"
     ]
    }
   ],
   "source": [
    "x = 10 # 1010\n",
    "print(10 << 4) # 10100000\n",
    "print(bin(160))"
   ]
  }
 ],
 "metadata": {
  "interpreter": {
   "hash": "8da01e5a71448ea74f54d88afa8911010d1d12e23bc7e103d40d5def4a09152c"
  },
  "kernelspec": {
   "display_name": "Python 3.9.5 64-bit",
   "name": "python3"
  },
  "language_info": {
   "codemirror_mode": {
    "name": "ipython",
    "version": 3
   },
   "file_extension": ".py",
   "mimetype": "text/x-python",
   "name": "python",
   "nbconvert_exporter": "python",
   "pygments_lexer": "ipython3",
   "version": "3.9.5"
  },
  "orig_nbformat": 4
 },
 "nbformat": 4,
 "nbformat_minor": 2
}
