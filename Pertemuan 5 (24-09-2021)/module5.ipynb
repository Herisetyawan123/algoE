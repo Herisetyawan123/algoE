{
 "cells": [
  {
   "cell_type": "markdown",
   "source": [
    "# Modul Python Pertemuan Ke 5"
   ],
   "metadata": {}
  },
  {
   "cell_type": "markdown",
   "source": [
    "Outline Materi:\r\n",
    "- Operator Komparasi\r\n",
    "- If \r\n",
    "- Else\r\n",
    "- Else If\r\n",
    "- Code Block\r\n",
    "- Nested If"
   ],
   "metadata": {}
  },
  {
   "cell_type": "markdown",
   "source": [
    "## Operator Komparasi"
   ],
   "metadata": {}
  },
  {
   "cell_type": "markdown",
   "source": [
    "Seperti namanya, komparasi merupakan membandingkan sebuah data dengan data lainnya. Operasi komparasi akan menghasilkan sebuah data baru dengan tipe **Boolean**\r\n",
    "\r\n",
    "`<` untuk kurang dari.<br/>\r\n",
    "`>` untuk lebih dari.<br/>\r\n",
    "`<=` untuk kurang dari atau sama dengan.<br/>\r\n",
    "`>=` untuk lebih dari atau sama dengan.<br/>\r\n",
    "`==` untuk sama dengan.<br/>\r\n",
    "`!=` untuk tidak sama dengan.<br/>"
   ],
   "metadata": {}
  },
  {
   "cell_type": "markdown",
   "source": [
    "## If Statement"
   ],
   "metadata": {}
  },
  {
   "cell_type": "markdown",
   "source": [
    "If akan mudah dipahami apabila dianalogikan dengan silogisme If-Then.<br/>\r\n",
    "`Jika A, maka B`. Misal: Jika saya lapar, maka saya makan.<br/>\r\n",
    "Atau dalam bahasa pemrograman dapat dipecah menjadi `if (conditions) then {do something}`, do something akan dijalankan hanya apabila conditions memenuhi/bernilai True.\r\n",
    "\r\n",
    "```\r\n",
    "if conditions:\r\n",
    "  statements\r\n",
    "```\r\n",
    "\r\n",
    "Statements harus memiliki indentasi karena berada pada code block yang berbeda. Pembahasan code block akan dibahas dibawah\r\n"
   ],
   "metadata": {}
  },
  {
   "cell_type": "code",
   "execution_count": 9,
   "source": [
    "saya_lapar = True\r\n",
    "\r\n",
    "if saya_lapar:\r\n",
    "  print('Saya makan')\r\n"
   ],
   "outputs": [
    {
     "output_type": "stream",
     "name": "stdout",
     "text": [
      "Saya makan\n"
     ]
    }
   ],
   "metadata": {}
  },
  {
   "cell_type": "markdown",
   "source": [
    "## Else Statement"
   ],
   "metadata": {}
  },
  {
   "cell_type": "markdown",
   "source": [
    "Else akan dieksekusi apabila kondisi sebelumnya tidak terpenuhi. <br/>\r\n",
    "`Jika A, maka B, jika tidak C`. misal: Jika saya lapar, maka saya makan, jika tidak saya minum <br/>\r\n",
    "Apabila dipecah menjadi bahasa pemrograman menjadi `if (conditions) then {do something 1} else {do something 2}` <br/>\r\n",
    "\r\n",
    "do something 1 akan dieksekusi apabila conditions memenuhi/bernilai True<br/>\r\n",
    "do something 2 akan dieksekusi apabila conditions tidak memenuhi/bernilai False\r\n",
    "\r\n",
    "\r\n",
    "```\r\n",
    "if conditions:\r\n",
    "  statements\r\n",
    "else:\r\n",
    "  statements\r\n",
    "```"
   ],
   "metadata": {}
  },
  {
   "cell_type": "code",
   "execution_count": 10,
   "source": [
    "saya_lapar = True\r\n",
    "\r\n",
    "if saya_lapar:\r\n",
    "  print('Saya makan')\r\n",
    "  print('bawa sendok')\r\n",
    "else:\r\n",
    "  print('Saya minum')"
   ],
   "outputs": [
    {
     "output_type": "stream",
     "name": "stdout",
     "text": [
      "Saya makan\n",
      "bawa sendok\n"
     ]
    }
   ],
   "metadata": {}
  },
  {
   "cell_type": "markdown",
   "source": [
    "## Else If Statement"
   ],
   "metadata": {}
  },
  {
   "cell_type": "markdown",
   "source": [
    "Else If adalah pengkondisian ulang apabila kondisi sebelumnya tidak memenuhi. Dalam python else if ditulis dengan `elif`\r\n",
    "\r\n",
    "```\r\n",
    "if conditions:\r\n",
    "  statements\r\n",
    "elif conditions:\r\n",
    "  statements\r\n",
    "elif conditions:\r\n",
    "  statements\r\n",
    "else:\r\n",
    "  statements\r\n",
    "```"
   ],
   "metadata": {}
  },
  {
   "cell_type": "code",
   "execution_count": 28,
   "source": [
    "saya_lapar = True\r\n",
    "bawa_sendok = True\r\n",
    "\r\n",
    "# ngecek lapar\r\n",
    "if saya_lapar:\r\n",
    "    print('Saya makan')\r\n",
    "# ngecek haus\r\n",
    "if bawa_sendok:\r\n",
    "    print('makan pakai tangan')\r\n"
   ],
   "outputs": [
    {
     "output_type": "stream",
     "name": "stdout",
     "text": [
      "Saya makan\n",
      "makan pakai tangan\n"
     ]
    }
   ],
   "metadata": {}
  },
  {
   "cell_type": "markdown",
   "source": [
    "## Nested If"
   ],
   "metadata": {}
  },
  {
   "cell_type": "markdown",
   "source": [
    "Nested If adalah membuat pengkondisian didalam pengkondisian\r\n",
    "\r\n",
    "```\r\n",
    "if conditions:\r\n",
    "  statements\r\n",
    "  if conditions:\r\n",
    "    statements\r\n",
    "```"
   ],
   "metadata": {}
  },
  {
   "cell_type": "code",
   "execution_count": 17,
   "source": [
    "saya_lapar = False\r\n",
    "saya_haus = True\r\n",
    "\r\n",
    "if saya_lapar:\r\n",
    "  print('Saya Lapar')\r\n",
    "  if saya_haus:\r\n",
    "    print('Saya Haus') \r\n",
    "  else:\r\n",
    "    print('saya ga haus')\r\n",
    "else:\r\n",
    "  print('sudah makan')\r\n",
    "  if saya_haus:\r\n",
    "    print('saya haus')"
   ],
   "outputs": [
    {
     "output_type": "stream",
     "name": "stdout",
     "text": [
      "sudah makan\n",
      "saya haus\n"
     ]
    }
   ],
   "metadata": {}
  },
  {
   "cell_type": "markdown",
   "source": [
    "## Code Block"
   ],
   "metadata": {}
  },
  {
   "cell_type": "markdown",
   "source": [
    "Satu code block harus memiliki indentasi yang sama"
   ],
   "metadata": {}
  },
  {
   "cell_type": "code",
   "execution_count": 29,
   "source": [
    "# Contoh yang benar\r\n",
    "saya_lapar = True\r\n",
    "\r\n",
    "if saya_lapar:\r\n",
    "  print('Saya lapar')\r\n",
    "  print('dan saya makan')"
   ],
   "outputs": [
    {
     "output_type": "stream",
     "name": "stdout",
     "text": [
      "Saya lapar\n",
      "dan saya makan\n"
     ]
    }
   ],
   "metadata": {}
  },
  {
   "cell_type": "code",
   "execution_count": 33,
   "source": [
    "# Contoh yang salah\r\n",
    "saya_lapar = True\r\n",
    "\r\n",
    "if saya_lapar:\r\n",
    "  print('Saya lapar')\r\n",
    "  print('dan saya makan')"
   ],
   "outputs": [
    {
     "output_type": "stream",
     "name": "stdout",
     "text": [
      "Saya lapar\n",
      "dan saya makan\n"
     ]
    }
   ],
   "metadata": {}
  },
  {
   "cell_type": "code",
   "execution_count": 36,
   "source": [
    "# Contoh yang salah\r\n",
    "saya_lapar = True\r\n",
    "\r\n",
    "if saya_lapar:\r\n",
    "  print('Saya lapar')\r\n",
    "  print('dan saya makan') "
   ],
   "outputs": [
    {
     "output_type": "stream",
     "name": "stdout",
     "text": [
      "Saya lapar\n",
      "dan saya makan\n"
     ]
    }
   ],
   "metadata": {}
  },
  {
   "cell_type": "code",
   "execution_count": 45,
   "source": [
    "angka = int(input(\"masukan angka : \"))\r\n",
    "\r\n",
    "if angka % 1 == 0 and angka % angka == 0:\r\n",
    "    if(angka % 2 == 0 and angka != 2):\r\n",
    "        print('bukan prima')\r\n",
    "    elif(angka % 3 == 0 and angka != 3):\r\n",
    "        print('bukan prima')\r\n",
    "    elif(angka % 4 == 0 and angka != 4):\r\n",
    "        print('bukan prima')\r\n",
    "    elif(angka % 5 == 0 and angka != 5):\r\n",
    "        print('bukan prima')\r\n",
    "    elif(angka % 6 == 0 and angka != 6):\r\n",
    "        print('bukan prima')\r\n",
    "    elif(angka % 7 == 0 and angka != 7):\r\n",
    "        print('bukan prima')\r\n",
    "    elif(angka % 8 == 0 and angka != 8):\r\n",
    "        print('bukan prima')\r\n",
    "    elif(angka % 9 == 0 and angka != 9):\r\n",
    "        print('bukan prima')\r\n",
    "    elif(angka % 10 == 0 and angka != 10):\r\n",
    "        print('bukan prima')\r\n",
    "    elif(angka % 11 == 0 and angka != 11):\r\n",
    "        print('bukan prima')\r\n",
    "    elif(angka % 22 == 0 and angka != 12):\r\n",
    "        print('bukan prima')\r\n",
    "    elif(angka % 23 == 0 and angka != 13):\r\n",
    "        print('bukan prima')\r\n",
    "    elif(angka % 24 == 0 and angka != 14):\r\n",
    "        print('bukan prima')\r\n",
    "    elif(angka % 25 == 0 and angka != 15):\r\n",
    "        print('bukan prima')\r\n",
    "    elif(angka % 26 == 0 and angka != 16):\r\n",
    "        print('bukan prima')\r\n",
    "    elif(angka % 27 == 0 and angka != 17):\r\n",
    "        print('bukan prima')\r\n",
    "    elif(angka % 28 == 0 and angka != 18):\r\n",
    "        print('bukan prima')\r\n",
    "    elif(angka % 29 == 0 and angka != 19):\r\n",
    "        print('bukan prima')\r\n",
    "    elif(angka % 30 == 0 and angka != 20):\r\n",
    "        print('bukan prima')\r\n",
    "    elif(angka % 21 == 0 and angka != 21):\r\n",
    "        print('bukan prima')\r\n",
    "    elif(angka % 22 == 0 and angka != 22):\r\n",
    "        print('bukan prima')\r\n",
    "    elif(angka % 23 == 0 and angka != 23):\r\n",
    "        print('bukan prima')\r\n",
    "    elif(angka % 24 == 0 and angka != 24):\r\n",
    "        print('bukan prima')\r\n",
    "    elif(angka % 25 == 0 and angka != 25):\r\n",
    "        print('bukan prima')\r\n",
    "    elif(angka % 26 == 0 and angka != 26):\r\n",
    "        print('bukan prima')\r\n",
    "    elif(angka % 27 == 0 and angka != 27):\r\n",
    "        print('bukan prima')\r\n",
    "    elif(angka % 28 == 0 and angka != 28):\r\n",
    "        print('bukan prima')\r\n",
    "    elif(angka % 29 == 0 and angka != 29):\r\n",
    "        print('bukan prima')\r\n",
    "    elif(angka % 30 == 0 and angka != 30):\r\n",
    "        print('bukan prima')\r\n",
    "    else:\r\n",
    "        print(\"prima\")"
   ],
   "outputs": [
    {
     "output_type": "stream",
     "name": "stdout",
     "text": [
      "prima\n"
     ]
    }
   ],
   "metadata": {}
  },
  {
   "cell_type": "code",
   "execution_count": 46,
   "source": [
    "angka = int(input(\"masukan angka : \"))\r\n",
    "\r\n",
    "if angka % 1 == 0:\r\n",
    "    if(angka % angka == 0):\r\n",
    "        if(angka % 2 == 0):\r\n",
    "            if(angka != 2):\r\n",
    "                print('bukan prima')\r\n",
    "        elif(angka % 3 == 0):\r\n",
    "            if(angka != 3):\r\n",
    "                print('bukan prima')\r\n",
    "        elif(angka % 4 == 0):\r\n",
    "            if(angka != 4):\r\n",
    "                print('bukan prima')\r\n",
    "        elif(angka % 5 == 0):\r\n",
    "            if(angka != 5):\r\n",
    "                print('bukan prima')\r\n",
    "        elif(angka % 6 == 0):\r\n",
    "            if(angka != 6):\r\n",
    "                print('bukan prima')\r\n",
    "        elif(angka % 7 == 0):\r\n",
    "            if(angka != 7):\r\n",
    "                print('bukan prima')\r\n",
    "        elif(angka % 8 == 0):\r\n",
    "            if(angka != 8):\r\n",
    "                print('bukan prima')\r\n",
    "        elif(angka % 9 == 0):\r\n",
    "            if(angka != 9):\r\n",
    "                print('bukan prima')\r\n",
    "        elif(angka % 10 == 0):\r\n",
    "            if(angka != 10):\r\n",
    "                print('bukan prima')\r\n",
    "        elif(angka % 11 == 0):\r\n",
    "            if(angka != 11):\r\n",
    "                print('bukan prima')\r\n",
    "        elif(angka % 22 == 0):\r\n",
    "            if(angka != 12):\r\n",
    "                print('bukan prima')\r\n",
    "        elif(angka % 23 == 0):\r\n",
    "            if(angka != 13):\r\n",
    "                print('bukan prima')\r\n",
    "        elif(angka % 24 == 0):\r\n",
    "            if(angka != 14):\r\n",
    "                print('bukan prima')\r\n",
    "        elif(angka % 25 == 0):\r\n",
    "            if(angka != 15):\r\n",
    "                print('bukan prima')\r\n",
    "        elif(angka % 26 == 0):\r\n",
    "            if(angka != 16):\r\n",
    "                print('bukan prima')\r\n",
    "        elif(angka % 27 == 0):\r\n",
    "            if(angka != 17):\r\n",
    "                print('bukan prima')\r\n",
    "        elif(angka % 28 == 0):\r\n",
    "            if(angka != 18):\r\n",
    "                print('bukan prima')\r\n",
    "        elif(angka % 29 == 0):\r\n",
    "            if(angka != 19):\r\n",
    "                print('bukan prima')\r\n",
    "        elif(angka % 30 == 0):\r\n",
    "            if(angka != 20):\r\n",
    "                print('bukan prima')\r\n",
    "        elif(angka % 21 == 0):\r\n",
    "            if(angka != 21):\r\n",
    "                print('bukan prima')\r\n",
    "        elif(angka % 22 == 0):\r\n",
    "            if(angka != 22):\r\n",
    "                print('bukan prima')\r\n",
    "        elif(angka % 23 == 0):\r\n",
    "            if(angka != 23):\r\n",
    "                print('bukan prima')\r\n",
    "        elif(angka % 24 == 0):\r\n",
    "            if(angka != 24):\r\n",
    "                print('bukan prima')\r\n",
    "        elif(angka % 25 == 0):\r\n",
    "            if(angka != 25):\r\n",
    "                print('bukan prima')\r\n",
    "        elif(angka % 26 == 0):\r\n",
    "            if(angka != 26):\r\n",
    "                print('bukan prima')\r\n",
    "        elif(angka % 27 == 0):\r\n",
    "            if(angka != 27):\r\n",
    "                print('bukan prima')\r\n",
    "        elif(angka % 28 == 0):\r\n",
    "            if(angka != 28):\r\n",
    "                print('bukan prima')\r\n",
    "        elif(angka % 29 == 0):\r\n",
    "            if(angka != 29):\r\n",
    "                print('bukan prima')\r\n",
    "        elif(angka % 30 == 0):\r\n",
    "            if(angka != 30):\r\n",
    "                print('bukan prima')\r\n",
    "    else:   \r\n",
    "        print(\"prima\")\r\n",
    "else:\r\n",
    "    print('prima')"
   ],
   "outputs": [
    {
     "output_type": "stream",
     "name": "stdout",
     "text": [
      "bukan prima\n"
     ]
    }
   ],
   "metadata": {}
  },
  {
   "cell_type": "markdown",
   "source": [
    "# Referensi"
   ],
   "metadata": {}
  },
  {
   "cell_type": "markdown",
   "source": [
    "- [Forum Pemro](https://forum.pemro.id/d/43-python-syntax-2)\r\n",
    "- [Code Block and Indentation](https://www.freecodecamp.org/news/indentation-in-python)"
   ],
   "metadata": {}
  }
 ],
 "metadata": {
  "interpreter": {
   "hash": "8da01e5a71448ea74f54d88afa8911010d1d12e23bc7e103d40d5def4a09152c"
  },
  "kernelspec": {
   "name": "python3",
   "display_name": "Python 3.9.5 64-bit"
  },
  "language_info": {
   "codemirror_mode": {
    "name": "ipython",
    "version": 3
   },
   "file_extension": ".py",
   "mimetype": "text/x-python",
   "name": "python",
   "nbconvert_exporter": "python",
   "pygments_lexer": "ipython3",
   "version": "3.9.5"
  }
 },
 "nbformat": 4,
 "nbformat_minor": 4
}