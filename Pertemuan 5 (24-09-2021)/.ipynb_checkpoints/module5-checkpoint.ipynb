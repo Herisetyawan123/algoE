{
 "cells": [
  {
   "cell_type": "markdown",
   "source": [
    "# Modul Python Pertemuan Ke 5"
   ],
   "metadata": {}
  },
  {
   "cell_type": "markdown",
   "source": [
    "Outline Materi:\r\n",
    "- Operator Komparasi\r\n",
    "- If \r\n",
    "- Else\r\n",
    "- Else If\r\n",
    "- Code Block\r\n",
    "- Nested If"
   ],
   "metadata": {}
  },
  {
   "cell_type": "markdown",
   "source": [
    "## Operator Komparasi"
   ],
   "metadata": {}
  },
  {
   "cell_type": "markdown",
   "source": [
    "Seperti namanya, komparasi merupakan membandingkan sebuah data dengan data lainnya. Operasi komparasi akan menghasilkan sebuah data baru dengan tipe **Boolean**\r\n",
    "\r\n",
    "`<` untuk kurang dari.<br/>\r\n",
    "`>` untuk lebih dari.<br/>\r\n",
    "`<=` untuk kurang dari atau sama dengan.<br/>\r\n",
    "`>=` untuk lebih dari atau sama dengan.<br/>\r\n",
    "`==` untuk sama dengan.<br/>\r\n",
    "`!=` untuk tidak sama dengan.<br/>"
   ],
   "metadata": {}
  },
  {
   "cell_type": "markdown",
   "source": [
    "## If Statement"
   ],
   "metadata": {}
  },
  {
   "cell_type": "markdown",
   "source": [
    "If akan mudah dipahami apabila dianalogikan dengan silogisme If-Then.<br/>\r\n",
    "`Jika A, maka B`. Misal: Jika saya lapar, maka saya makan.<br/>\r\n",
    "Atau dalam bahasa pemrograman dapat dipecah menjadi `if (conditions) then {do something}`, do something akan dijalankan hanya apabila conditions memenuhi/bernilai True.\r\n",
    "\r\n",
    "```\r\n",
    "if conditions:\r\n",
    "  statements\r\n",
    "```\r\n",
    "\r\n",
    "Statements harus memiliki indentasi karena berada pada code block yang berbeda. Pembahasan code block akan dibahas dibawah\r\n"
   ],
   "metadata": {}
  },
  {
   "cell_type": "code",
   "execution_count": 1,
   "source": [
    "saya_lapar = True\r\n",
    "\r\n",
    "if saya_lapar:\r\n",
    "  print('Saya makan')"
   ],
   "outputs": [
    {
     "output_type": "stream",
     "name": "stdout",
     "text": [
      "Saya makan\n"
     ]
    }
   ],
   "metadata": {}
  },
  {
   "cell_type": "markdown",
   "source": [
    "## Else Statement"
   ],
   "metadata": {}
  },
  {
   "cell_type": "markdown",
   "source": [
    "Else akan dieksekusi apabila kondisi sebelumnya tidak terpenuhi. <br/>\r\n",
    "`Jika A, maka B, jika tidak C`. misal: Jika saya lapar, maka saya makan, jika tidak saya minum <br/>\r\n",
    "Apabila dipecah menjadi bahasa pemrograman menjadi `if (conditions) then {do something 1} else {do something 2}` <br/>\r\n",
    "\r\n",
    "do something 1 akan dieksekusi apabila conditions memenuhi/bernilai True<br/>\r\n",
    "do something 2 akan dieksekusi apabila conditions tidak memenuhi/bernilai False\r\n",
    "\r\n",
    "\r\n",
    "```\r\n",
    "if conditions:\r\n",
    "  statements\r\n",
    "else:\r\n",
    "  statements\r\n",
    "```"
   ],
   "metadata": {}
  },
  {
   "cell_type": "code",
   "execution_count": null,
   "source": [
    "saya_lapar = False\r\n",
    "\r\n",
    "if saya_lapar:\r\n",
    "  print('Saya makan')\r\n",
    "else:\r\n",
    "  print('Saya minum')"
   ],
   "outputs": [],
   "metadata": {}
  },
  {
   "cell_type": "markdown",
   "source": [
    "## Else If Statement"
   ],
   "metadata": {}
  },
  {
   "cell_type": "markdown",
   "source": [
    "Else If adalah pengkondisian ulang apabila kondisi sebelumnya tidak memenuhi. Dalam python else if ditulis dengan `elif`\r\n",
    "\r\n",
    "```\r\n",
    "if conditions:\r\n",
    "  statements\r\n",
    "elif conditions:\r\n",
    "  statements\r\n",
    "elif conditions:\r\n",
    "  statements\r\n",
    "else:\r\n",
    "  statements\r\n",
    "```"
   ],
   "metadata": {}
  },
  {
   "cell_type": "markdown",
   "source": [
    "## Nested If"
   ],
   "metadata": {}
  },
  {
   "cell_type": "markdown",
   "source": [
    "Nested If adalah membuat pengkondisian didalam pengkondisian\r\n",
    "\r\n",
    "```\r\n",
    "if conditions:\r\n",
    "  statements\r\n",
    "  if conditions:\r\n",
    "    statements\r\n",
    "```"
   ],
   "metadata": {}
  },
  {
   "cell_type": "code",
   "execution_count": null,
   "source": [
    "saya_lapar = True\r\n",
    "saya_haus = True\r\n",
    "\r\n",
    "if saya_lapar:\r\n",
    "  print('Saya Lapar')\r\n",
    "  if saya_haus:\r\n",
    "    print('Saya Haus')"
   ],
   "outputs": [],
   "metadata": {}
  },
  {
   "cell_type": "markdown",
   "source": [
    "## Code Block"
   ],
   "metadata": {}
  },
  {
   "cell_type": "markdown",
   "source": [
    "Satu code block harus memiliki indentasi yang sama"
   ],
   "metadata": {}
  },
  {
   "cell_type": "code",
   "execution_count": null,
   "source": [
    "# Contoh yang benar\r\n",
    "saya_lapar = True\r\n",
    "\r\n",
    "if saya_lapar:\r\n",
    "  print('Saya lapar')\r\n",
    "  print('dan saya makan')"
   ],
   "outputs": [],
   "metadata": {}
  },
  {
   "cell_type": "code",
   "execution_count": null,
   "source": [
    "# Contoh yang salah\r\n",
    "saya_lapar = False\r\n",
    "\r\n",
    "if saya_lapar:\r\n",
    "  print('Saya lapar')\r\n",
    "print('dan saya makan')"
   ],
   "outputs": [],
   "metadata": {}
  },
  {
   "cell_type": "code",
   "execution_count": null,
   "source": [
    "# Contoh yang salah\r\n",
    "saya_lapar = True\r\n",
    "\r\n",
    "if saya_lapar:\r\n",
    "  print('Saya lapar')\r\n",
    "    print('dan saya makan') "
   ],
   "outputs": [],
   "metadata": {}
  },
  {
   "cell_type": "markdown",
   "source": [
    "# Referensi"
   ],
   "metadata": {}
  },
  {
   "cell_type": "markdown",
   "source": [
    "- [Forum Pemro](https://forum.pemro.id/d/43-python-syntax-2)\r\n",
    "- [Code Block and Indentation](https://www.freecodecamp.org/news/indentation-in-python)"
   ],
   "metadata": {}
  }
 ],
 "metadata": {
  "orig_nbformat": 4,
  "language_info": {
   "name": "python",
   "version": "3.9.5",
   "mimetype": "text/x-python",
   "codemirror_mode": {
    "name": "ipython",
    "version": 3
   },
   "pygments_lexer": "ipython3",
   "nbconvert_exporter": "python",
   "file_extension": ".py"
  },
  "kernelspec": {
   "name": "python3",
   "display_name": "Python 3.9.5 64-bit"
  },
  "interpreter": {
   "hash": "f3ea1ffbb4cb2fbc93027aa4765a7ed6f68eb228606e9b1ae57df212caeb1a97"
  }
 },
 "nbformat": 4,
 "nbformat_minor": 2
}