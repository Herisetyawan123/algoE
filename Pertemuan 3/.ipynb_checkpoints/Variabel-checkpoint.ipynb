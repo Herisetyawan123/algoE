{
 "cells": [
  {
   "cell_type": "code",
   "execution_count": 5,
   "id": "bacafd0e-9dbb-4f86-bb81-a5e37973e153",
   "metadata": {},
   "outputs": [],
   "source": [
    "status_jomblo = False\n",
    "\n"
   ]
  },
  {
   "cell_type": "code",
   "execution_count": 31,
   "id": "5219751b-3b33-4549-bab5-d8dd82f540ca",
   "metadata": {},
   "outputs": [
    {
     "data": {
      "text/plain": [
       "6283"
      ]
     },
     "execution_count": 31,
     "metadata": {},
     "output_type": "execute_result"
    }
   ],
   "source": [
    "# nim\n",
    "nim = \"202410103028\" # tepat\n",
    "nims = 202410103028\n",
    "no = 83\n",
    "no"
   ]
  },
  {
   "cell_type": "code",
   "execution_count": 8,
   "id": "344e8a77-5aca-474c-807a-7e4378b2e051",
   "metadata": {},
   "outputs": [
    {
     "data": {
      "text/plain": [
       "15"
      ]
     },
     "execution_count": 8,
     "metadata": {},
     "output_type": "execute_result"
    }
   ],
   "source": [
    "a = 10\n",
    "b = a + 5\n"
   ]
  },
  {
   "cell_type": "code",
   "execution_count": 9,
   "id": "74de90af-0d19-455f-9bab-a7c276980118",
   "metadata": {},
   "outputs": [
    {
     "data": {
      "text/plain": [
       "10"
      ]
     },
     "execution_count": 9,
     "metadata": {},
     "output_type": "execute_result"
    }
   ],
   "source": [
    "power = 8\n",
    "power = power + 2\n",
    "power"
   ]
  },
  {
   "cell_type": "code",
   "execution_count": 14,
   "id": "a6e5f0b5-dee1-42be-80d7-c20f792504f0",
   "metadata": {},
   "outputs": [
    {
     "name": "stdout",
     "output_type": "stream",
     "text": [
      "gelas A: biru\n",
      "gelas B: merah\n"
     ]
    }
   ],
   "source": [
    "# swap\n",
    "\n",
    "gelasA = \"merah\"\n",
    "gelasB = \"biru\"\n",
    "\n",
    "tempt = gelasA\n",
    "gelasA = gelasB\n",
    "gelasB = tempt\n",
    "\n",
    "print(\"gelas A:\",gelasA)\n",
    "print(\"gelas B:\",gelasB)\n"
   ]
  },
  {
   "cell_type": "code",
   "execution_count": 25,
   "id": "348e84a3-f10a-460e-b241-f8f8db9d323f",
   "metadata": {},
   "outputs": [
    {
     "name": "stdout",
     "output_type": "stream",
     "text": [
      "gelas Hijau: kuning\n",
      "gelas Kuning: hijau\n"
     ]
    }
   ],
   "source": [
    "gelas_hijau = \"hijau\"\n",
    "gelas_kuning = \"kuning\"\n",
    "\n",
    "# pythonic\n",
    "gelas_hijau, gelas_kuning = gelas_kuning, gelas_hijau\n",
    "\n",
    "print(\"gelas Hijau:\",gelas_hijau)\n",
    "print(\"gelas Kuning:\",gelas_kuning)"
   ]
  },
  {
   "cell_type": "code",
   "execution_count": 28,
   "id": "28f18853-872d-4046-a04a-998bcfc9bfc0",
   "metadata": {},
   "outputs": [
    {
     "name": "stdout",
     "output_type": "stream",
     "text": [
      "1 2 3\n"
     ]
    }
   ],
   "source": [
    "x, y, z = 1, 2, 3\n",
    "# z = 1\n",
    "# x = 2\n",
    "# y = 3\n",
    "print(x,y,z)"
   ]
  },
  {
   "cell_type": "code",
   "execution_count": 23,
   "id": "1cd5e88c-8d3e-4477-8584-f27c42ad1194",
   "metadata": {},
   "outputs": [
    {
     "data": {
      "text/plain": [
       "11"
      ]
     },
     "execution_count": 23,
     "metadata": {},
     "output_type": "execute_result"
    }
   ],
   "source": [
    "# unary\n",
    "a = 10\n",
    "a += 1\n",
    "a"
   ]
  }
 ],
 "metadata": {
  "kernelspec": {
   "display_name": "Python 3",
   "language": "python",
   "name": "python3"
  },
  "language_info": {
   "codemirror_mode": {
    "name": "ipython",
    "version": 3
   },
   "file_extension": ".py",
   "mimetype": "text/x-python",
   "name": "python",
   "nbconvert_exporter": "python",
   "pygments_lexer": "ipython3",
   "version": "3.9.5"
  }
 },
 "nbformat": 4,
 "nbformat_minor": 5
}
