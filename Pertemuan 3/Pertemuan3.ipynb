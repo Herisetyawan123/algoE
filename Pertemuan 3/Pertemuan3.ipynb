{
 "cells": [
  {
   "cell_type": "markdown",
   "id": "1cd45007-1700-4e93-88e2-eb6c0d4f5182",
   "metadata": {},
   "source": [
    "## Operasi Input"
   ]
  },
  {
   "cell_type": "code",
   "execution_count": null,
   "id": "2a4f09d1-f72a-4bf6-a545-38954c87fc26",
   "metadata": {},
   "outputs": [],
   "source": [
    "nama = input(\"Masukan nama: \")\n",
    "print(nama)"
   ]
  },
  {
   "cell_type": "markdown",
   "id": "71985877-60a9-470e-9a59-24170ae546d8",
   "metadata": {
    "tags": []
   },
   "source": [
    "## Operator Aritmatika\n",
    "~ Penjumlahan (+)  \n",
    "~ Pengurangan (-)  \n",
    "~ Perkalian (*)  \n",
    "~ Pembagian (/)  \n",
    "~ Pembagian Bulat (//)  \n",
    "~ Pemangkatan (**)  \n",
    "~ Modulus (%)  "
   ]
  },
  {
   "cell_type": "code",
   "execution_count": 36,
   "id": "91c2f638-7d8b-4697-b499-af3f620a38f3",
   "metadata": {},
   "outputs": [],
   "source": [
    "a = 5\n",
    "b = 2"
   ]
  },
  {
   "cell_type": "markdown",
   "id": "d476be1a-e8d9-4cc5-a3a7-8788d1f519ee",
   "metadata": {},
   "source": [
    "## Operator Penugasan\n",
    "~ Penjumlahan (+=)  \n",
    "~ Pengurangan (-=)  \n",
    "~ Perkalian (*=)  \n",
    "~ Pembagian (/=)  \n",
    "~ Pembagian Bulat (//=)  \n",
    "~ Pemangkatan (**=)  \n",
    "~ Modulus (%=)  "
   ]
  },
  {
   "cell_type": "code",
   "execution_count": 44,
   "id": "008c2f6c-bbce-481c-8a61-343926ef9d3c",
   "metadata": {},
   "outputs": [],
   "source": [
    "x = 10\n",
    "y = 4"
   ]
  },
  {
   "cell_type": "markdown",
   "id": "edaa73b9-6e22-4568-bc6c-a53e90125054",
   "metadata": {},
   "source": [
    "## String Concatenation  \n",
    "Penggabungan dua atau lebih string menjadi satu"
   ]
  },
  {
   "cell_type": "code",
   "execution_count": null,
   "id": "1842ce1b-d7c1-4efa-8bbf-e0a947b39d9f",
   "metadata": {},
   "outputs": [],
   "source": []
  },
  {
   "cell_type": "markdown",
   "id": "a122cefc-ce69-4ce4-8f97-158393397f42",
   "metadata": {},
   "source": [
    "## Replication  \n",
    "Perintah untuk mereplikasi string"
   ]
  },
  {
   "cell_type": "code",
   "execution_count": null,
   "id": "355f26c0-ee8c-457f-87b3-2e5650b6e8e7",
   "metadata": {},
   "outputs": [],
   "source": []
  },
  {
   "cell_type": "markdown",
   "id": "35827793-8e83-44d5-9ca3-49978b9a735e",
   "metadata": {},
   "source": [
    "## Conversion  \n",
    "Pada bahasa pemrograman terdapat tipe data. Terkadang kita memerlukan perubahan tipe data dari yang sebelumnya integer, float, dll menjadi string."
   ]
  },
  {
   "cell_type": "code",
   "execution_count": null,
   "id": "ff230678-553e-4223-9515-ad2cc153d8ca",
   "metadata": {},
   "outputs": [],
   "source": []
  }
 ],
 "metadata": {
  "kernelspec": {
   "display_name": "Python 3 (ipykernel)",
   "language": "python",
   "name": "python3"
  },
  "language_info": {
   "codemirror_mode": {
    "name": "ipython",
    "version": 3
   },
   "file_extension": ".py",
   "mimetype": "text/x-python",
   "name": "python",
   "nbconvert_exporter": "python",
   "pygments_lexer": "ipython3",
   "version": "3.9.6"
  }
 },
 "nbformat": 4,
 "nbformat_minor": 5
}
