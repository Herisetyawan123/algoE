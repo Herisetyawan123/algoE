{
 "cells": [
  {
   "cell_type": "code",
   "execution_count": null,
   "metadata": {},
   "outputs": [],
   "source": [
    "mahasiswa = [{\"nama\" : \"Heri setyawan\"}, {\"nama\" : \"Alvin Abner\"}]\n",
    "print(mahasiswa[0][\"nama\"])"
   ]
  },
  {
   "cell_type": "code",
   "execution_count": 9,
   "metadata": {},
   "outputs": [
    {
     "ename": "KeyError",
     "evalue": "'nama'",
     "output_type": "error",
     "traceback": [
      "\u001b[1;31m---------------------------------------------------------------------------\u001b[0m",
      "\u001b[1;31mKeyError\u001b[0m                                  Traceback (most recent call last)",
      "\u001b[1;32m<ipython-input-9-d14a9e62cac3>\u001b[0m in \u001b[0;36m<module>\u001b[1;34m\u001b[0m\n\u001b[0;32m      3\u001b[0m \u001b[0mmahasiswa\u001b[0m\u001b[1;33m[\u001b[0m\u001b[1;34m\"nim\"\u001b[0m\u001b[1;33m]\u001b[0m \u001b[1;33m=\u001b[0m \u001b[1;34m\"202410103028\"\u001b[0m\u001b[1;33m\u001b[0m\u001b[1;33m\u001b[0m\u001b[0m\n\u001b[0;32m      4\u001b[0m \u001b[0mmahasiswa\u001b[0m\u001b[1;33m[\u001b[0m\u001b[1;34m\"univ\"\u001b[0m\u001b[1;33m]\u001b[0m \u001b[1;33m=\u001b[0m \u001b[1;34m\"Universitas Jember\"\u001b[0m\u001b[1;33m\u001b[0m\u001b[1;33m\u001b[0m\u001b[0m\n\u001b[1;32m----> 5\u001b[1;33m \u001b[0mprint\u001b[0m\u001b[1;33m(\u001b[0m\u001b[0mmahasiswa\u001b[0m\u001b[1;33m[\u001b[0m\u001b[1;34m\"nama\"\u001b[0m\u001b[1;33m]\u001b[0m\u001b[1;33m)\u001b[0m\u001b[1;33m\u001b[0m\u001b[1;33m\u001b[0m\u001b[0m\n\u001b[0m\u001b[0;32m      6\u001b[0m \u001b[0mprint\u001b[0m\u001b[1;33m(\u001b[0m\u001b[0mmahasiswa\u001b[0m\u001b[1;33m)\u001b[0m\u001b[1;33m\u001b[0m\u001b[1;33m\u001b[0m\u001b[0m\n",
      "\u001b[1;31mKeyError\u001b[0m: 'nama'"
     ]
    }
   ],
   "source": [
    "mahasiswa = {}\n",
    "\n",
    "mahasiswa[\"nim\"] = \"202410103028\"\n",
    "mahasiswa[\"univ\"] = \"Universitas Jember\"\n",
    "print(mahasiswa[\"nama\"])\n",
    "print(mahasiswa)"
   ]
  },
  {
   "cell_type": "code",
   "execution_count": 66,
   "metadata": {},
   "outputs": [
    {
     "name": "stdout",
     "output_type": "stream",
     "text": [
      "nama_panjang : Heri Setyawan\n",
      "nim : 202410103028\n",
      "fakultas : Ilmu Komputer\n",
      "biodata : {'tinggi': 170, 'berat': 75, 'hoby': ['renang', 'Main Game']}\n"
     ]
    }
   ],
   "source": [
    "mahasiswa2 = {\n",
    "    \"nama_panjang\" : \"Heri Setyawan\",\n",
    "    \"nim\" : \"202410103028\", \n",
    "    \"fakultas\" : [\"Sistem Informasi\", \"Teknologi INformasi\",\"Informatika\"], \n",
    "    \"biodata\" : {\n",
    "        \"tinggi\" : 170, \n",
    "        \"berat\" : 75, \n",
    "        \"hoby\" : [\"renang\", \"Main Game\"]\n",
    "    }\n",
    "}\n",
    "\n",
    "mahasiswa2.update({\"fakultas\" : \"Ilmu Komputer\"})\n",
    "\n",
    "\n",
    "for maps in mahasiswa2.items():\n",
    "    print(maps[0], \":\", maps[1])\n"
   ]
  },
  {
   "cell_type": "code",
   "execution_count": 50,
   "metadata": {},
   "outputs": [
    {
     "name": "stdout",
     "output_type": "stream",
     "text": [
      "{'nama_panjang': 'Heri Setyawan', 'nim': '202410103028', 'fakultas': ['Sistem Informasi', 'Teknologi INformasi', 'Informatika']}\n",
      "{'nama_panjang': 'Heri Setyawan', 'nim': '202410103028', 'fakultas': ['Sistem Informasi', 'Teknologi INformasi', 'Informatika'], 'biodata': {'tinggi': 170, 'berat': 75, 'hoby': ['renang', 'Main Game']}}\n"
     ]
    }
   ],
   "source": [
    "mahasiswa3 = mahasiswa2.copy()\n",
    "\n",
    "del mahasiswa2[\"biodata\"]\n",
    "print(mahasiswa2)\n",
    "print(mahasiswa3)"
   ]
  }
 ],
 "metadata": {
  "interpreter": {
   "hash": "8da01e5a71448ea74f54d88afa8911010d1d12e23bc7e103d40d5def4a09152c"
  },
  "kernelspec": {
   "display_name": "Python 3.9.5 64-bit",
   "name": "python3"
  },
  "language_info": {
   "codemirror_mode": {
    "name": "ipython",
    "version": 3
   },
   "file_extension": ".py",
   "mimetype": "text/x-python",
   "name": "python",
   "nbconvert_exporter": "python",
   "pygments_lexer": "ipython3",
   "version": "3.9.5"
  },
  "orig_nbformat": 4
 },
 "nbformat": 4,
 "nbformat_minor": 2
}
