{
 "cells": [
  {
   "cell_type": "markdown",
   "metadata": {},
   "source": [
    "# 🚀Collections (Algo 1 E Pertemuan ke - 10) "
   ]
  },
  {
   "cell_type": "markdown",
   "metadata": {},
   "source": [
    "Dalam bahasa pemrograman terdapat banyak sekali tipe data collections. Umumnya kegunaan dari collections adalah untuk menyimpan data lebih dari satu. Collections dapat dibagi lagi menjadi sequence dan mapping dan dapat dibagi lagi mutable atau imutable. Contoh yang termasuk collections yaitu `list`, `tuple`, `set`, `dictionary`, range, String, etc.\n",
    "\n",
    "| List | Tuple | Set | Dictionary |\n",
    "| --- | --- | --- | --- |\n",
    "| Diakses melalui index | Diakses melalui index | Diakses melalui index | Diakses melalui key |\n",
    "| Mutable | Imutable | Mutable | Mutable |\n",
    "| Boleh ada duplikasi data | Boleh ada duplikasi data | Tidak boleh ada duplikasi data | Tidak boleh ada dupliasi key |\n",
    "\n",
    "\n",
    "<!-- <table>\n",
    "    <thead>\n",
    "        <tr>\n",
    "            <th colspan=\"3\" style=\"text-align: center;\">Collections</th>\n",
    "        </tr>\n",
    "        <tr>\n",
    "            <th colspan=\"2\" style=\"text-align: center;\">Sequence</th>\n",
    "            <th rowspan=\"2\">Mapping</th>\n",
    "        </tr>\n",
    "        <tr>\n",
    "            <th>Imutable</th>\n",
    "            <th>Mutable</th>\n",
    "        </tr>\n",
    "    </thead>\n",
    "    <tbody>\n",
    "        <tr>\n",
    "            <td>String</td>\n",
    "            <td>String</td>\n",
    "            <td>String</td>\n",
    "        </tr>\n",
    "         <tr>\n",
    "            <td>String</td>\n",
    "            <td>String</td>\n",
    "            <td>String</td>\n",
    "        </tr>\n",
    "         <tr>\n",
    "            <td>String</td>\n",
    "            <td>String</td>\n",
    "            <td>String</td>\n",
    "        </tr>\n",
    "    </tbody>\n",
    "</table> -->"
   ]
  },
  {
   "cell_type": "markdown",
   "metadata": {},
   "source": [
    "## Ⓐ List"
   ]
  },
  {
   "cell_type": "markdown",
   "metadata": {},
   "source": [
    "`'{c}'.join(list)`, menggabungkan list menjadi string dipisahkan oleh karakter _c_\n",
    "\n",
    "`list.append(x)`, menambahkan data x pada list<br/>\n",
    "`list.extend({iterable})`, menggandeng dua data yang iterable<br/>\n",
    "`list.remove(x)`, menghapus data x pada list<br/>\n",
    "`list.pop(i)`, mengambil data pada index ke- _i_ (default index terakhir atau -1)<br/>\n",
    "`list.copy()`, membuat sebuah copy dari list<br/>\n",
    "`list.count(x)`, menghitung total data x yang ada pada list<br/>\n",
    "\n",
    "..."
   ]
  },
  {
   "cell_type": "markdown",
   "metadata": {},
   "source": [
    "## Ⓑ Tuple"
   ]
  },
  {
   "cell_type": "markdown",
   "metadata": {},
   "source": [
    "serupa dengan list hanya saja tidak dapat diubah setelah inisialisasi\n",
    "\n",
    "`'{c}'.join(tuple)`, menggabungkan tuple menjadi string dipisahkan oleh karakter _c_\n",
    "\n",
    "`tuple.count(x)`, menghitung total data x yang ada pada tuple<br/>\n",
    "\n",
    "..."
   ]
  },
  {
   "cell_type": "markdown",
   "metadata": {},
   "source": [
    "## Ⓒ Set"
   ]
  },
  {
   "cell_type": "markdown",
   "metadata": {},
   "source": [
    "Set adalah representasi dari ***himpunan***. Serupa dengan list hanya saja tidak boleh ada duplikasi didalamnya\n",
    "\n",
    "`'{c}'.join(set)`, menggabungkan set menjadi string dipisahkan oleh karakter _c_\n",
    "\n",
    "`set.add(x)`, menambahkan data x pada set<br/>\n",
    "`set.remove(x)`, menghapus data x pada set<br/>\n",
    "`set.update(set)`, menggabungkan dua set<br/>\n",
    "`set.copy()`, membuat copy dari set<br/>\n",
    "\n",
    "..."
   ]
  },
  {
   "cell_type": "markdown",
   "metadata": {},
   "source": [
    "## Ⓓ Dictionary"
   ]
  },
  {
   "cell_type": "markdown",
   "metadata": {},
   "source": [
    "Adalah salah satu collection yang menggunakan konsep mapping, yaitu `key-value` pairs.\n",
    "\n",
    "`dict.get(key)`, mencari value pada dictionary dengan key<br/>\n",
    "`dict.items()`, membentuk dict_items (serupa dengan list) yang berisi list dari tuple dengan format [(key, value), (key, value), ....]<br/>\n",
    "`dict.keys()`, membentuk dict_keys (serupa dengan list) yang berisi list dari keys<br/>\n",
    "`dict.items()`, membentuk dict_items (serupa dengan list) yang berisi list dari keys<br/>\n",
    "`dict.pop(key)`, mengambil nilai dari dictionary berdasarkan key<br/>\n",
    "`dict.copy()`, membuat copy dari dictionary<br/>\n",
    "\n",
    "..."
   ]
  },
  {
   "cell_type": "markdown",
   "metadata": {},
   "source": [
    "# 🚀Referensi "
   ]
  },
  {
   "cell_type": "markdown",
   "metadata": {},
   "source": [
    "- [Data Structures](https://docs.python.org/3/tutorial/datastructures.html)\n",
    "- [Standard Types: Sequence Types](https://docs.python.org/3/library/stdtypes.html#typesseq)\n",
    "- [List Methods](https://www.w3schools.com/python/python_ref_list.asp)\n",
    "- [Tuple Methods](https://www.w3schools.com/python/python_ref_tuple.asp)\n",
    "- [Set Methods](https://www.w3schools.com/python/python_ref_set.asp)\n",
    "- [Dictionary Methods](https://www.w3schools.com/python/python_ref_dictionary.asp)"
   ]
  }
 ],
 "metadata": {
  "interpreter": {
   "hash": "31abd229cc407f045b5b29e8971e3690c0a84a16c9a71aa0aa2fb08d866173b1"
  },
  "kernelspec": {
   "display_name": "Python 3.8.10 64-bit",
   "name": "python3"
  },
  "language_info": {
   "name": "python",
   "version": "3.8.10"
  },
  "orig_nbformat": 4
 },
 "nbformat": 4,
 "nbformat_minor": 2
}
